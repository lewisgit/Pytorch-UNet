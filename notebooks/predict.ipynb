{
 "cells": [
  {
   "cell_type": "code",
   "execution_count": 7,
   "metadata": {},
   "outputs": [],
   "source": [
    "import logging\n",
    "import os\n",
    "import sys\n",
    "sys.path.append('../')\n",
    "\n",
    "import matplotlib.pyplot as plt\n",
    "%matplotlib inline\n",
    "import numpy as np\n",
    "import torch\n",
    "import torch.nn.functional as F\n",
    "from PIL import Image\n",
    "from torchvision import transforms\n",
    "\n",
    "from unet import UNet\n",
    "from utils.data_vis import plot_img_and_mask\n",
    "from utils.dataset import BasicDataset\n",
    "\n",
    "import onnx\n",
    "from onnxsim import simplify"
   ]
  },
  {
   "cell_type": "code",
   "execution_count": 2,
   "metadata": {},
   "outputs": [],
   "source": [
    "def predict_img(net,\n",
    "                full_img,\n",
    "                device,\n",
    "                scale_factor=1,\n",
    "                out_threshold=0.5,\n",
    "                export_onnx=False,\n",
    "                export_dir='models'):\n",
    "    net.eval()\n",
    "\n",
    "    img = torch.from_numpy(BasicDataset.preprocess(full_img, scale_factor))\n",
    "\n",
    "    img = img.unsqueeze(0)\n",
    "    img = img.to(device=device, dtype=torch.float32)\n",
    "\n",
    "    with torch.no_grad():\n",
    "        output = net(img)\n",
    "\n",
    "        if net.n_classes > 1:\n",
    "            probs = F.softmax(output, dim=1)\n",
    "        else:\n",
    "            probs = torch.sigmoid(output)\n",
    "\n",
    "        probs = probs.squeeze(0)\n",
    "\n",
    "        tf = transforms.Compose(\n",
    "            [\n",
    "                transforms.ToPILImage(),\n",
    "                transforms.Resize(full_img.size[1]),\n",
    "                transforms.ToTensor()\n",
    "            ]\n",
    "        )\n",
    "\n",
    "        probs = tf(probs.cpu())\n",
    "        full_mask = probs.squeeze().cpu().numpy()\n",
    "\n",
    "         # Export the model\n",
    "        if export_onnx:\n",
    "          img = torch.zeros(1, 3, 512, 512).to(device)\n",
    "          onnx_path = os.path.join(export_dir,\"unet_onnx.onnx\")\n",
    "          torch.onnx.export(net,               # model being run\n",
    "                            img,                         # model input (or a tuple for multiple inputs)\n",
    "                            onnx_path,   # where to save the model (can be a file or file-like object)\n",
    "                            #verbose=True,\n",
    "                            #export_params=True,        # store the trained parameter weights inside the model file\n",
    "                            opset_version=11,          # the ONNX version to export the model to\n",
    "                            #do_constant_folding=True,  # whether to execute constant folding for optimization\n",
    "                            input_names = ['input'],   # the model's input names\n",
    "                            #output_names = ['output'], # the model's output names\n",
    "                            output_names = ['output']) # the model's output names\n",
    "                            #dynamic_axes={'input' : {0 : 'batch_size'},    # variable length axes\n",
    "                            #              'output' : {0 : 'batch_size'}})\n",
    "          model = onnx.load(onnx_path)\n",
    "          model_sim, check = simplify(model)\n",
    "          assert check, \"Simplified ONNX model could not be validated\"\n",
    "          onnx_sim_path = os.path.join(export_dir, 'unet_onnx_sim.onnx')\n",
    "          onnx.save(model_sim, onnx_sim_path)\n",
    "\n",
    "    return full_mask > out_threshold, full_mask"
   ]
  },
  {
   "cell_type": "code",
   "execution_count": 9,
   "metadata": {},
   "outputs": [
    {
     "data": {
      "image/png": "[encoded data removed]",
      "text/plain": [
       "<Figure size 432x288 with 3 Axes>"
      ]
     },
     "metadata": {
      "needs_background": "light"
     },
     "output_type": "display_data"
    }
   ],
   "source": [
    "model = '../checkpoints/CP_epoch10.pth'\n",
    "scale = 0.5\n",
    "mask_threshold = 0.8\n",
    "export_onnx = False\n",
    "no_save = True\n",
    "viz = True\n",
    "in_files = ['../data/imgs/0cdf5b5d0ce1_04.jpg']\n",
    "out_files = []\n",
    "\n",
    "net = UNet(n_channels=3, n_classes=1)\n",
    "\n",
    "logging.info(\"Loading model {}\".format(model))\n",
    "\n",
    "device = torch.device('cuda' if torch.cuda.is_available() else 'cpu')\n",
    "logging.info(f'Using device {device}')\n",
    "net.to(device=device)\n",
    "net.load_state_dict(torch.load(model, map_location=device))\n",
    "\n",
    "logging.info(\"Model loaded !\")\n",
    "\n",
    "for i, fn in enumerate(in_files):\n",
    "    logging.info(\"\\nPredicting image {} ...\".format(fn))\n",
    "\n",
    "    img = Image.open(fn)\n",
    "\n",
    "    mask,full_mask = predict_img(net=net,\n",
    "                        full_img=img,\n",
    "                        scale_factor=scale,\n",
    "                        out_threshold=mask_threshold,\n",
    "                        device=device,\n",
    "                        export_onnx=export_onnx)\n",
    "\n",
    "    if not no_save:\n",
    "        out_fn = out_files[i]\n",
    "        result = mask_to_image(mask)\n",
    "        result.save(out_files[i])\n",
    "\n",
    "        logging.info(\"Mask saved to {}\".format(out_files[i]))\n",
    "\n",
    "    if viz:\n",
    "        logging.info(\"Visualizing results for image {}, close to continue ...\".format(fn))\n",
    "        plot_img_and_mask(img, mask, full_mask)"
   ]
  },
  {
   "cell_type": "code",
   "execution_count": null,
   "metadata": {},
   "outputs": [],
   "source": []
  },
  {
   "cell_type": "code",
   "execution_count": null,
   "metadata": {},
   "outputs": [],
   "source": []
  }
 ],
 "metadata": {
  "kernelspec": {
   "display_name": "Python 3",
   "language": "python",
   "name": "python3"
  },
  "language_info": {
   "codemirror_mode": {
    "name": "ipython",
    "version": 3
   },
   "file_extension": ".py",
   "mimetype": "text/x-python",
   "name": "python",
   "nbconvert_exporter": "python",
   "pygments_lexer": "ipython3",
   "version": "3.8.8"
  },
  "metadata": {
   "interpreter": {
    "hash": "acc4928fd376b655e767c73b1ae0d3990a4dfffa7bafff514dc376cdb425ab23"
   }
  }
 },
 "nbformat": 4,
 "nbformat_minor": 4
}
